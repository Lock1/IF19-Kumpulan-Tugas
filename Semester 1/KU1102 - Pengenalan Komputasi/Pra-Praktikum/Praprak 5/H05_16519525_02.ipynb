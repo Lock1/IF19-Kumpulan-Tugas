{
 "cells": [
  {
   "cell_type": "code",
   "execution_count": 7,
   "metadata": {},
   "outputs": [
    {
     "name": "stdout",
     "output_type": "stream",
     "text": [
      "Tuan Yon memiliki nilai\n",
      "Fakultas    : FTMD \n",
      "Fisika      : 42.88\n",
      "Matematika  : 93.5\n",
      "Kimia       : 52.46\n",
      "\n",
      "Mahasiswa yang memiliki nilai fisika tertinggi\n",
      "Iskandar Setiadi\n",
      "\n",
      "10 Mahasiswa yang memiliki nilai kimia tertinggi\n",
      "Ismira Dini Yanuari\n",
      "Putri Urfanny Nadhiroh\n",
      "Starida Sofia Moranova\n",
      "Trianita Adhi Handayani\n",
      "Dita Febriana\n",
      "Tiyo Yoga Pradiknas\n",
      "Fathimah Yahya\n",
      "Iskandar Setiadi\n",
      "Dian Amalia Khusna\n",
      "Syamsul Sinaga\n",
      "\n",
      "Banyak matematika kurang dari 50 adalah 416\n",
      "\n",
      "Banyak mahasiswa FMIPA adalah 727\n"
     ]
    }
   ],
   "source": [
    "# Tanggal   : 11 November 2019\n",
    "# Deskripsi : tuan Yon makan panda\n",
    "\n",
    "import pandas\n",
    "# Baca file\n",
    "BACABANG = pandas.read_csv(\"stei-mno.csv\")\n",
    "\n",
    "# Cari lokasi Tuan Yon, dan print informasi milik Tuan Yon\n",
    "for i in range(len(BACABANG)):\n",
    "    if BACABANG[\"nama\"][i] == \"Tuan Yon\":\n",
    "        tuann = BACABANG.loc[i]\n",
    "print(\"Tuan Yon memiliki nilai\")\n",
    "print(\"{:12}: {:5}\".format(\"Fakultas\",tuann[\"fakultas\"]))\n",
    "print(\"{:12}: {:5}\".format(\"Fisika\",tuann[\"nilai_fis\"]))\n",
    "print(\"{:12}:{:5}\".format(\"Matematika\",tuann[\"nilai_mat\"]))\n",
    "print(\"{:12}: {:5}\\n\".format(\"Kimia\",tuann[\"nilai_kim\"]))\n",
    "\n",
    "# Cari nilai maximum Fisika dan cari mahasiswa yang memiliki nilai tersebut\n",
    "maxfis = max(BACABANG[\"nilai_fis\"])\n",
    "print(\"Mahasiswa yang memiliki nilai fisika tertinggi\")\n",
    "for i in range(len(BACABANG)):\n",
    "    if BACABANG[\"nilai_fis\"][i] == maxfis:\n",
    "        print(BACABANG[\"nama\"][i])\n",
    "\n",
    "\n",
    "# Sort nilai kimia, print 10 teratas\n",
    "print(\"\\n10 Mahasiswa yang memiliki nilai kimia tertinggi\")\n",
    "soson = BACABANG.sort_values([\"nilai_kim\"], ascending=[0])[:10][\"nama\"]\n",
    "for i in soson:\n",
    "        print(i)\n",
    "\n",
    "# Cari nilai matematika yang kurang dari 50\n",
    "banyakmat = 0\n",
    "for i in range(len(BACABANG)):\n",
    "    if BACABANG[\"nilai_mat\"][i] < 50:\n",
    "        banyakmat += 1\n",
    "print(\"\\nBanyak matematika kurang dari 50 adalah %d\" %banyakmat)\n",
    "\n",
    "# Cari data fakultas FMIPA\n",
    "datafak = BACABANG[\"fakultas\"].value_counts()\n",
    "print(\"\\nBanyak mahasiswa FMIPA adalah {}\".format(datafak[\"FMIPA\"]))"
   ]
  },
  {
   "cell_type": "code",
   "execution_count": null,
   "metadata": {},
   "outputs": [],
   "source": []
  }
 ],
 "metadata": {
  "kernelspec": {
   "display_name": "Python 3",
   "language": "python",
   "name": "python3"
  },
  "language_info": {
   "codemirror_mode": {
    "name": "ipython",
    "version": 3
   },
   "file_extension": ".py",
   "mimetype": "text/x-python",
   "name": "python",
   "nbconvert_exporter": "python",
   "pygments_lexer": "ipython3",
   "version": "3.7.2"
  }
 },
 "nbformat": 4,
 "nbformat_minor": 2
}
